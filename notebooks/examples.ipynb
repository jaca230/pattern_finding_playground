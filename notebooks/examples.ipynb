{
 "cells": [
  {
   "cell_type": "markdown",
   "id": "09eb8c9b-2848-4aa6-8863-9d44a96d6cfd",
   "metadata": {},
   "source": [
    "# Import Librarys and Files"
   ]
  },
  {
   "cell_type": "markdown",
   "id": "0e58ca50-100b-4d65-80e9-d48ec6dbfb02",
   "metadata": {},
   "source": [
    "## Imports"
   ]
  },
  {
   "cell_type": "markdown",
   "id": "99c6a1b2-84fa-47ee-9433-bc7463d187c4",
   "metadata": {},
   "source": [
    "### Add top level to the import path"
   ]
  },
  {
   "cell_type": "code",
   "execution_count": 1,
   "id": "cb9668d4-6140-4453-a300-dc49301f57d6",
   "metadata": {},
   "outputs": [],
   "source": [
    "import sys\n",
    "import os\n",
    "\n",
    "# Add the project root to sys.path\n",
    "project_root = os.path.abspath(\"..\")\n",
    "if project_root not in sys.path:\n",
    "    sys.path.insert(0, project_root)"
   ]
  },
  {
   "cell_type": "markdown",
   "id": "5c8bab9f-1f16-4709-9de7-15df1f20de98",
   "metadata": {},
   "source": [
    "### Import some classes/modules we'll be using"
   ]
  },
  {
   "cell_type": "code",
   "execution_count": 2,
   "id": "6caa26f0-78da-4d24-af5f-f07aa66d2c94",
   "metadata": {},
   "outputs": [],
   "source": [
    "import ROOT as r\n",
    "import matplotlib.pyplot as plt\n",
    "import numpy as np\n",
    "from importlib import reload\n",
    "from tqdm.notebook import tqdm \n",
    "\n",
    "import utils.utils as utils\n",
    "import utils.plotting_utils as plotting_utils\n",
    "from models.event import Event\n",
    "from models.pattern import Pattern\n",
    "from models.vertex import Vertex\n",
    "from models.tracklet import Tracklet\n",
    "from models.hit import Hit\n",
    "from enums.default_stages import DefaultStages\n",
    "from pipeline.pipeline import Pipeline\n",
    "\n",
    "# Import the new pipeline stages\n",
    "from pipeline.stages.event_input_stage import EventInputStage, InputContext\n",
    "from pipeline.stages.event_init_stage import EventInitStage\n",
    "from pipeline.stages.tracklet_stage import TrackletStage\n",
    "from pipeline.stages.vertex_stage import VertexStage\n",
    "from pipeline.stages.pattern_stage import PatternStage\n",
    "from pipeline.stages.validation_stage import ValidationStage\n",
    "\n",
    "# Import algorithm implementations\n",
    "from algorithms.tracklet.default_tracklet_former import DefaultTrackletFormer\n",
    "from algorithms.vertex.kmeans_vertex_former import KMeansVertexFormer\n",
    "from algorithms.pattern.default_pattern_former import DefaultPatternFormer\n",
    "from algorithms.validation.tracklet_grouping_validator import TrackletGroupingValidator"
   ]
  },
  {
   "cell_type": "markdown",
   "id": "a2c49afe-fff5-4be7-b542-df8eb626160a",
   "metadata": {},
   "source": [
    "## Load Shared libraries to access methods of ROOT objects in python"
   ]
  },
  {
   "cell_type": "code",
   "execution_count": 3,
   "id": "005f48aa-0a30-4454-9e7b-387b3f110ce0",
   "metadata": {},
   "outputs": [
    {
     "data": {
      "text/plain": [
       "0"
      ]
     },
     "execution_count": 3,
     "metadata": {},
     "output_type": "execute_result"
    }
   ],
   "source": [
    "PI_ROOT_DICT_PATH = \"/home/jack/large_projects/simulation/install/lib/libPiRootDict.so\" #Change to match system path\n",
    "r.gSystem.Load(PI_ROOT_DICT_PATH)"
   ]
  },
  {
   "cell_type": "markdown",
   "id": "6a1a69ac-1499-4b48-8ca4-3cae9e48a6d3",
   "metadata": {},
   "source": [
    "## Load Pattern finding truth data\n",
    "This also contains what we need to reconstruct patterns. So it gives validation (true patterns) and a method to create our own pattern"
   ]
  },
  {
   "cell_type": "code",
   "execution_count": 4,
   "id": "1061c348-f4f6-452e-ab28-4e95b0be3576",
   "metadata": {},
   "outputs": [
    {
     "name": "stdout",
     "output_type": "stream",
     "text": [
      "The file '/home/jack/large_projects/simulation/workspace/playground/reco_algorithm_tests/data/all_rec_pimunu_tracklets.root' was created on: 2025-04-22 14:38:30\n"
     ]
    }
   ],
   "source": [
    "file_truth_pattern_finding = \"/home/jack/large_projects/simulation/workspace/playground/reco_algorithm_tests/data/all_rec_pimunu_tracklets.root\"  # CHANGE THIS\n",
    "\n",
    "# Print creation time for each file\n",
    "utils.print_file_creation_time(file_truth_pattern_finding)\n",
    "\n",
    "file_truth_pf=r.TFile(file_truth_pattern_finding,\"READ\")\n"
   ]
  },
  {
   "cell_type": "markdown",
   "id": "0c5ce278-a029-46a8-91b4-b58e0223997c",
   "metadata": {},
   "source": [
    "## Get ROOT objects from our file\n",
    "Making these more than once can cause memory leaks"
   ]
  },
  {
   "cell_type": "code",
   "execution_count": 5,
   "id": "fccf0195-b93b-4342-a637-00352aa06ec6",
   "metadata": {},
   "outputs": [],
   "source": [
    "tree = file_truth_pf.Get(\"rec\")\n",
    "geoHelper = file_truth_pf.Get(\"GeoHeader\")\n",
    "\n",
    "# Older versions will have \"PIMCGeoHelper\"\n",
    "#geoHelper = file_truth_pf.Get(\"PIMCGeoHelper\")"
   ]
  },
  {
   "cell_type": "markdown",
   "id": "e9729341-f0b4-4e0b-b667-0ad037ee964d",
   "metadata": {},
   "source": [
    "# Create Python Structure from Event Data"
   ]
  },
  {
   "cell_type": "markdown",
   "id": "df82fe14-7c3f-4e65-95ef-c99326649ca8",
   "metadata": {},
   "source": [
    "## Initialize Pipeline"
   ]
  },
  {
   "cell_type": "code",
   "execution_count": 6,
   "id": "e91dd839-7f1e-4a29-8411-e6e322187478",
   "metadata": {},
   "outputs": [
    {
     "name": "stdout",
     "output_type": "stream",
     "text": [
      "Pipeline registered with stages:\n",
      "  Stage(name='Load Event Input Data', stage_value=DefaultStages.INPUT)\n",
      "  Stage(name='Initialize Event', stage_value=DefaultStages.EVENT_INIT)\n",
      "  Stage(name='Form Tracklets', stage_value=DefaultStages.TRACKLETS)\n",
      "  Stage(name='Form Vertices', stage_value=DefaultStages.VERTICES)\n",
      "  Stage(name='Form Patterns', stage_value=DefaultStages.PATTERNS)\n",
      "  Stage(name='Validate Event', stage_value=DefaultStages.VALIDATION)\n"
     ]
    }
   ],
   "source": [
    "# Initialize a pipeline\n",
    "pipeline = Pipeline()\n",
    "\n",
    "# Register all stages in the pipeline\n",
    "pipeline.register_stage(EventInputStage())\n",
    "pipeline.register_stage(EventInitStage())\n",
    "pipeline.register_stage(TrackletStage(DefaultTrackletFormer()))\n",
    "pipeline.register_stage(VertexStage(KMeansVertexFormer()))\n",
    "pipeline.register_stage(PatternStage(DefaultPatternFormer()))\n",
    "pipeline.register_stage(ValidationStage(TrackletGroupingValidator()))\n",
    "\n",
    "print(\"Pipeline registered with stages:\")\n",
    "for stage_value, stage in pipeline.stage_manager.registered_steps.items():\n",
    "    print(f\"  {stage}\")\n",
    "\n",
    "# For \"normal use\" you'd just initialize with all 3 pattern forming algorithms here, then call event_patterns.form_all(file, index)\n",
    "# Below, we go through each step instead:"
   ]
  },
  {
   "cell_type": "code",
   "execution_count": 7,
   "id": "b21ce174-8069-4534-b291-3b304a4516ca",
   "metadata": {
    "scrolled": true
   },
   "outputs": [
    {
     "name": "stdout",
     "output_type": "stream",
     "text": [
      "\n",
      "Step 1 Complete - Input data loaded for event 0\n",
      "Storage contents: ['tree', 'geo', 'entry_index']\n",
      "Current stage: DefaultStages.INPUT\n"
     ]
    }
   ],
   "source": [
    "# ## Step 1: Load Event Input Data\n",
    "\n",
    "event_index = 0\n",
    "input_context = InputContext(tree, geoHelper, event_index)\n",
    "\n",
    "# Run the input stage\n",
    "pipeline.run_stage(DefaultStages.INPUT, input_context)\n",
    "\n",
    "print(f\"\\nStep 1 Complete - Input data loaded for event {event_index}\")\n",
    "print(f\"Storage contents: {list(pipeline.get_storage().keys())}\")\n",
    "print(f\"Current stage: {pipeline.get_current_stage()}\")"
   ]
  },
  {
   "cell_type": "code",
   "execution_count": 8,
   "id": "c21adfb7-3d1c-4ac9-9607-adf76a4218fd",
   "metadata": {},
   "outputs": [
    {
     "name": "stdout",
     "output_type": "stream",
     "text": [
      "\n",
      "Step 2 Complete - Event initialized: Event(id=0, no patterns, no tracklets, extra_info: 0 keys: [], is_valid=False)\n",
      "Current stage: DefaultStages.EVENT_INIT\n"
     ]
    }
   ],
   "source": [
    "# ## Step 2: Initialize Event Object\n",
    "\n",
    "pipeline.run_stage(DefaultStages.EVENT_INIT)\n",
    "\n",
    "event = pipeline.get_event()\n",
    "print(f\"\\nStep 2 Complete - Event initialized: {event}\")\n",
    "print(f\"Current stage: {pipeline.get_current_stage()}\")"
   ]
  },
  {
   "cell_type": "code",
   "execution_count": 9,
   "id": "c66a7b03-2221-46ac-902f-901a4507e587",
   "metadata": {
    "scrolled": true
   },
   "outputs": [
    {
     "name": "stdout",
     "output_type": "stream",
     "text": [
      "\n",
      "Step 3 Complete - Tracklets formed: 1 tracklets\n",
      "Event extra info: {'tracklet_algorithm_info': {'n_patterns_truth': 1, 'particles_in_event_truth': Counter({211: 1}), 'patterns_truth': {0: [0]}}}\n",
      "Current stage: DefaultStages.TRACKLETS\n"
     ]
    }
   ],
   "source": [
    "# ## Step 3: Create Tracklets for the Event\n",
    "\n",
    "pipeline.run_stage(DefaultStages.TRACKLETS)\n",
    "\n",
    "tracklets = pipeline.get_storage()[\"tracklets\"]\n",
    "event = pipeline.get_event()\n",
    "\n",
    "print(f\"\\nStep 3 Complete - Tracklets formed: {len(tracklets)} tracklets\")\n",
    "print(f\"Event extra info: {event.extra_info}\")\n",
    "print(f\"Current stage: {pipeline.get_current_stage()}\")"
   ]
  },
  {
   "cell_type": "code",
   "execution_count": 10,
   "id": "37a2a3fa-8500-4802-b76d-87594967233e",
   "metadata": {},
   "outputs": [
    {
     "name": "stdout",
     "output_type": "stream",
     "text": [
      "set()\n",
      "{Tracklet(id=0, particle_id=211, name=\\pi^{+}, color=#2CA02C, e_id=2528, hits=29, extra_info_keys=['fit_results'], endpoints=(Point3D(x=-3.1146526011896283, y=0.5558980993867113, z=0.000500000715255744), Point3D(x=-3.055655276202041, y=0.45291479979947963, z=3.307499952316284)))}\n",
      "\n",
      "Step 4 Complete - Vertices formed: 2 vertices\n",
      "Current stage: DefaultStages.VERTICES\n"
     ]
    },
    {
     "data": {
      "image/png": "[encoded data removed]",
      "text/plain": [
       "<Figure size 1200x1000 with 4 Axes>"
      ]
     },
     "metadata": {},
     "output_type": "display_data"
    },
    {
     "name": "stdout",
     "output_type": "stream",
     "text": [
      "Event extra info: {'tracklet_algorithm_info': {'n_patterns_truth': 1, 'particles_in_event_truth': Counter({211: 1}), 'patterns_truth': {0: [0]}}, 'vertex_algorithm_info': {'vertex_comparison': {'front_vertices': {Vertex(id=0, num_tracklets=1), Vertex(id=1, num_tracklets=1)}, 'back_vertices': {Vertex(id=1, num_tracklets=1), Vertex(id=0, num_tracklets=1)}, 'both_vertices': {Vertex(id=1, num_tracklets=1), Vertex(id=0, num_tracklets=1)}}, 'stats': {'front': {'BIC': 4.09579059285662, 'k': 2, 'centroids': array([[-3.05565528e+00,  0.00000000e+00,  3.30749995e+00],\n",
      "       [-3.11465260e+00,  0.00000000e+00,  5.00000715e-04]]), 'iteration': 1, 'all_iterations': [{'bic': 16.632748091698055, 'k': 1, 'vertices': array([[-3.08515394,  0.        ,  1.65399998]]), 'iteration': 1}, {'bic': 16.632748091698055, 'k': 1, 'vertices': array([[-3.08515394,  0.        ,  1.65399998]]), 'iteration': 2}, {'bic': 16.632748091698055, 'k': 1, 'vertices': array([[-3.08515394,  0.        ,  1.65399998]]), 'iteration': 3}, {'bic': 16.632748091698055, 'k': 1, 'vertices': array([[-3.08515394,  0.        ,  1.65399998]]), 'iteration': 4}, {'bic': 16.632748091698055, 'k': 1, 'vertices': array([[-3.08515394,  0.        ,  1.65399998]]), 'iteration': 5}, {'bic': 4.09579059285662, 'k': 2, 'vertices': array([[-3.05565528e+00,  0.00000000e+00,  3.30749995e+00],\n",
      "       [-3.11465260e+00,  0.00000000e+00,  5.00000715e-04]]), 'iteration': 1}, {'bic': 4.09579059285662, 'k': 2, 'vertices': array([[-3.05565528e+00,  0.00000000e+00,  3.30749995e+00],\n",
      "       [-3.11465260e+00,  0.00000000e+00,  5.00000715e-04]]), 'iteration': 2}, {'bic': 4.09579059285662, 'k': 2, 'vertices': array([[-3.05565528e+00,  0.00000000e+00,  3.30749995e+00],\n",
      "       [-3.11465260e+00,  0.00000000e+00,  5.00000715e-04]]), 'iteration': 3}, {'bic': 4.09579059285662, 'k': 2, 'vertices': array([[-3.05565528e+00,  0.00000000e+00,  3.30749995e+00],\n",
      "       [-3.11465260e+00,  0.00000000e+00,  5.00000715e-04]]), 'iteration': 4}, {'bic': 4.09579059285662, 'k': 2, 'vertices': array([[-3.05565528e+00,  0.00000000e+00,  3.30749995e+00],\n",
      "       [-3.11465260e+00,  0.00000000e+00,  5.00000715e-04]]), 'iteration': 5}]}, 'back': {'BIC': 4.09579059285662, 'k': 2, 'centroids': array([[0.00000000e+00, 5.55898099e-01, 5.00000715e-04],\n",
      "       [0.00000000e+00, 4.52914800e-01, 3.30749995e+00]]), 'iteration': 1, 'all_iterations': [{'bic': 16.637055671181812, 'k': 1, 'vertices': array([[0.        , 0.50440645, 1.65399998]]), 'iteration': 1}, {'bic': 16.637055671181812, 'k': 1, 'vertices': array([[0.        , 0.50440645, 1.65399998]]), 'iteration': 2}, {'bic': 16.637055671181812, 'k': 1, 'vertices': array([[0.        , 0.50440645, 1.65399998]]), 'iteration': 3}, {'bic': 16.637055671181812, 'k': 1, 'vertices': array([[0.        , 0.50440645, 1.65399998]]), 'iteration': 4}, {'bic': 16.637055671181812, 'k': 1, 'vertices': array([[0.        , 0.50440645, 1.65399998]]), 'iteration': 5}, {'bic': 4.09579059285662, 'k': 2, 'vertices': array([[0.00000000e+00, 5.55898099e-01, 5.00000715e-04],\n",
      "       [0.00000000e+00, 4.52914800e-01, 3.30749995e+00]]), 'iteration': 1}, {'bic': 4.09579059285662, 'k': 2, 'vertices': array([[0.00000000e+00, 5.55898099e-01, 5.00000715e-04],\n",
      "       [0.00000000e+00, 4.52914800e-01, 3.30749995e+00]]), 'iteration': 2}, {'bic': 4.09579059285662, 'k': 2, 'vertices': array([[0.00000000e+00, 5.55898099e-01, 5.00000715e-04],\n",
      "       [0.00000000e+00, 4.52914800e-01, 3.30749995e+00]]), 'iteration': 3}, {'bic': 4.09579059285662, 'k': 2, 'vertices': array([[0.00000000e+00, 5.55898099e-01, 5.00000715e-04],\n",
      "       [0.00000000e+00, 4.52914800e-01, 3.30749995e+00]]), 'iteration': 4}, {'bic': 4.09579059285662, 'k': 2, 'vertices': array([[0.00000000e+00, 5.55898099e-01, 5.00000715e-04],\n",
      "       [0.00000000e+00, 4.52914800e-01, 3.30749995e+00]]), 'iteration': 5}]}, 'both': {'BIC': 4.09579059285662, 'k': 2, 'centroids': array([[-3.05565528e+00,  4.52914800e-01,  3.30749995e+00],\n",
      "       [-3.11465260e+00,  5.55898099e-01,  5.00000715e-04]]), 'iteration': 1, 'all_iterations': [{'bic': 16.639159524469857, 'k': 1, 'vertices': array([[-3.08515394,  0.50440645,  1.65399998]]), 'iteration': 1}, {'bic': 16.639159524469857, 'k': 1, 'vertices': array([[-3.08515394,  0.50440645,  1.65399998]]), 'iteration': 2}, {'bic': 16.639159524469857, 'k': 1, 'vertices': array([[-3.08515394,  0.50440645,  1.65399998]]), 'iteration': 3}, {'bic': 16.639159524469857, 'k': 1, 'vertices': array([[-3.08515394,  0.50440645,  1.65399998]]), 'iteration': 4}, {'bic': 16.639159524469857, 'k': 1, 'vertices': array([[-3.08515394,  0.50440645,  1.65399998]]), 'iteration': 5}, {'bic': 4.09579059285662, 'k': 2, 'vertices': array([[-3.05565528e+00,  4.52914800e-01,  3.30749995e+00],\n",
      "       [-3.11465260e+00,  5.55898099e-01,  5.00000715e-04]]), 'iteration': 1}, {'bic': 4.09579059285662, 'k': 2, 'vertices': array([[-3.05565528e+00,  4.52914800e-01,  3.30749995e+00],\n",
      "       [-3.11465260e+00,  5.55898099e-01,  5.00000715e-04]]), 'iteration': 2}, {'bic': 4.09579059285662, 'k': 2, 'vertices': array([[-3.05565528e+00,  4.52914800e-01,  3.30749995e+00],\n",
      "       [-3.11465260e+00,  5.55898099e-01,  5.00000715e-04]]), 'iteration': 3}, {'bic': 4.09579059285662, 'k': 2, 'vertices': array([[-3.05565528e+00,  4.52914800e-01,  3.30749995e+00],\n",
      "       [-3.11465260e+00,  5.55898099e-01,  5.00000715e-04]]), 'iteration': 4}, {'bic': 4.09579059285662, 'k': 2, 'vertices': array([[-3.05565528e+00,  4.52914800e-01,  3.30749995e+00],\n",
      "       [-3.11465260e+00,  5.55898099e-01,  5.00000715e-04]]), 'iteration': 5}]}}}}\n"
     ]
    }
   ],
   "source": [
    "# ## Step 4: Create Vertices from Tracklets\n",
    "\n",
    "pipeline.run_stage(DefaultStages.VERTICES)\n",
    "\n",
    "vertices = pipeline.get_storage()[\"vertices\"]\n",
    "event = pipeline.get_event()\n",
    "print(event.get_patterns())\n",
    "print(event.all_tracklets)\n",
    "\n",
    "print(f\"\\nStep 4 Complete - Vertices formed: {len(vertices)} vertices\")\n",
    "print(f\"Current stage: {pipeline.get_current_stage()}\")\n",
    "\n",
    "# Reload and plot\n",
    "reload(plotting_utils)\n",
    "plotting_utils.plot_event(event)\n",
    "\n",
    "# Show accumulated extra info\n",
    "print(f\"Event extra info: {event.extra_info}\")"
   ]
  },
  {
   "cell_type": "code",
   "execution_count": 11,
   "id": "666d0128-7020-4f46-aa29-dbe6faadf811",
   "metadata": {},
   "outputs": [
    {
     "name": "stdout",
     "output_type": "stream",
     "text": [
      "\n",
      "Step 5 Complete - Patterns formed: 1 patterns\n",
      "Current stage: DefaultStages.PATTERNS\n",
      "\n",
      "Pattern with 2 vertices.\n",
      "  Vertex 1 (tracklet_ids=[0])\n",
      "  Vertex 0 (tracklet_ids=[0])\n",
      "  Unique Tracklets:\n",
      "    Tracklet(id=0, particle_id=211, name=\\pi^{+}, color=#2CA02C, e_id=2528, hits=29, extra_info_keys=['fit_results'], endpoints=(Point3D(x=-3.1146526011896283, y=0.5558980993867113, z=0.000500000715255744), Point3D(x=-3.055655276202041, y=0.45291479979947963, z=3.307499952316284)))\n",
      "\n",
      "Event extra info: {'tracklet_algorithm_info': {'n_patterns_truth': 1, 'particles_in_event_truth': Counter({211: 1}), 'patterns_truth': {0: [0]}}, 'vertex_algorithm_info': {'vertex_comparison': {'front_vertices': {Vertex(id=1, num_tracklets=1), Vertex(id=0, num_tracklets=1)}, 'back_vertices': {Vertex(id=1, num_tracklets=1), Vertex(id=0, num_tracklets=1)}, 'both_vertices': {Vertex(id=0, num_tracklets=1), Vertex(id=1, num_tracklets=1)}}, 'stats': {'front': {'BIC': 4.09579059285662, 'k': 2, 'centroids': array([[-3.05565528e+00,  0.00000000e+00,  3.30749995e+00],\n",
      "       [-3.11465260e+00,  0.00000000e+00,  5.00000715e-04]]), 'iteration': 1, 'all_iterations': [{'bic': 16.632748091698055, 'k': 1, 'vertices': array([[-3.08515394,  0.        ,  1.65399998]]), 'iteration': 1}, {'bic': 16.632748091698055, 'k': 1, 'vertices': array([[-3.08515394,  0.        ,  1.65399998]]), 'iteration': 2}, {'bic': 16.632748091698055, 'k': 1, 'vertices': array([[-3.08515394,  0.        ,  1.65399998]]), 'iteration': 3}, {'bic': 16.632748091698055, 'k': 1, 'vertices': array([[-3.08515394,  0.        ,  1.65399998]]), 'iteration': 4}, {'bic': 16.632748091698055, 'k': 1, 'vertices': array([[-3.08515394,  0.        ,  1.65399998]]), 'iteration': 5}, {'bic': 4.09579059285662, 'k': 2, 'vertices': array([[-3.05565528e+00,  0.00000000e+00,  3.30749995e+00],\n",
      "       [-3.11465260e+00,  0.00000000e+00,  5.00000715e-04]]), 'iteration': 1}, {'bic': 4.09579059285662, 'k': 2, 'vertices': array([[-3.05565528e+00,  0.00000000e+00,  3.30749995e+00],\n",
      "       [-3.11465260e+00,  0.00000000e+00,  5.00000715e-04]]), 'iteration': 2}, {'bic': 4.09579059285662, 'k': 2, 'vertices': array([[-3.05565528e+00,  0.00000000e+00,  3.30749995e+00],\n",
      "       [-3.11465260e+00,  0.00000000e+00,  5.00000715e-04]]), 'iteration': 3}, {'bic': 4.09579059285662, 'k': 2, 'vertices': array([[-3.05565528e+00,  0.00000000e+00,  3.30749995e+00],\n",
      "       [-3.11465260e+00,  0.00000000e+00,  5.00000715e-04]]), 'iteration': 4}, {'bic': 4.09579059285662, 'k': 2, 'vertices': array([[-3.05565528e+00,  0.00000000e+00,  3.30749995e+00],\n",
      "       [-3.11465260e+00,  0.00000000e+00,  5.00000715e-04]]), 'iteration': 5}]}, 'back': {'BIC': 4.09579059285662, 'k': 2, 'centroids': array([[0.00000000e+00, 5.55898099e-01, 5.00000715e-04],\n",
      "       [0.00000000e+00, 4.52914800e-01, 3.30749995e+00]]), 'iteration': 1, 'all_iterations': [{'bic': 16.637055671181812, 'k': 1, 'vertices': array([[0.        , 0.50440645, 1.65399998]]), 'iteration': 1}, {'bic': 16.637055671181812, 'k': 1, 'vertices': array([[0.        , 0.50440645, 1.65399998]]), 'iteration': 2}, {'bic': 16.637055671181812, 'k': 1, 'vertices': array([[0.        , 0.50440645, 1.65399998]]), 'iteration': 3}, {'bic': 16.637055671181812, 'k': 1, 'vertices': array([[0.        , 0.50440645, 1.65399998]]), 'iteration': 4}, {'bic': 16.637055671181812, 'k': 1, 'vertices': array([[0.        , 0.50440645, 1.65399998]]), 'iteration': 5}, {'bic': 4.09579059285662, 'k': 2, 'vertices': array([[0.00000000e+00, 5.55898099e-01, 5.00000715e-04],\n",
      "       [0.00000000e+00, 4.52914800e-01, 3.30749995e+00]]), 'iteration': 1}, {'bic': 4.09579059285662, 'k': 2, 'vertices': array([[0.00000000e+00, 5.55898099e-01, 5.00000715e-04],\n",
      "       [0.00000000e+00, 4.52914800e-01, 3.30749995e+00]]), 'iteration': 2}, {'bic': 4.09579059285662, 'k': 2, 'vertices': array([[0.00000000e+00, 5.55898099e-01, 5.00000715e-04],\n",
      "       [0.00000000e+00, 4.52914800e-01, 3.30749995e+00]]), 'iteration': 3}, {'bic': 4.09579059285662, 'k': 2, 'vertices': array([[0.00000000e+00, 5.55898099e-01, 5.00000715e-04],\n",
      "       [0.00000000e+00, 4.52914800e-01, 3.30749995e+00]]), 'iteration': 4}, {'bic': 4.09579059285662, 'k': 2, 'vertices': array([[0.00000000e+00, 5.55898099e-01, 5.00000715e-04],\n",
      "       [0.00000000e+00, 4.52914800e-01, 3.30749995e+00]]), 'iteration': 5}]}, 'both': {'BIC': 4.09579059285662, 'k': 2, 'centroids': array([[-3.05565528e+00,  4.52914800e-01,  3.30749995e+00],\n",
      "       [-3.11465260e+00,  5.55898099e-01,  5.00000715e-04]]), 'iteration': 1, 'all_iterations': [{'bic': 16.639159524469857, 'k': 1, 'vertices': array([[-3.08515394,  0.50440645,  1.65399998]]), 'iteration': 1}, {'bic': 16.639159524469857, 'k': 1, 'vertices': array([[-3.08515394,  0.50440645,  1.65399998]]), 'iteration': 2}, {'bic': 16.639159524469857, 'k': 1, 'vertices': array([[-3.08515394,  0.50440645,  1.65399998]]), 'iteration': 3}, {'bic': 16.639159524469857, 'k': 1, 'vertices': array([[-3.08515394,  0.50440645,  1.65399998]]), 'iteration': 4}, {'bic': 16.639159524469857, 'k': 1, 'vertices': array([[-3.08515394,  0.50440645,  1.65399998]]), 'iteration': 5}, {'bic': 4.09579059285662, 'k': 2, 'vertices': array([[-3.05565528e+00,  4.52914800e-01,  3.30749995e+00],\n",
      "       [-3.11465260e+00,  5.55898099e-01,  5.00000715e-04]]), 'iteration': 1}, {'bic': 4.09579059285662, 'k': 2, 'vertices': array([[-3.05565528e+00,  4.52914800e-01,  3.30749995e+00],\n",
      "       [-3.11465260e+00,  5.55898099e-01,  5.00000715e-04]]), 'iteration': 2}, {'bic': 4.09579059285662, 'k': 2, 'vertices': array([[-3.05565528e+00,  4.52914800e-01,  3.30749995e+00],\n",
      "       [-3.11465260e+00,  5.55898099e-01,  5.00000715e-04]]), 'iteration': 3}, {'bic': 4.09579059285662, 'k': 2, 'vertices': array([[-3.05565528e+00,  4.52914800e-01,  3.30749995e+00],\n",
      "       [-3.11465260e+00,  5.55898099e-01,  5.00000715e-04]]), 'iteration': 4}, {'bic': 4.09579059285662, 'k': 2, 'vertices': array([[-3.05565528e+00,  4.52914800e-01,  3.30749995e+00],\n",
      "       [-3.11465260e+00,  5.55898099e-01,  5.00000715e-04]]), 'iteration': 5}]}}}, 'pattern_algorithm_info': {}}\n"
     ]
    }
   ],
   "source": [
    "# ## Step 5: Create Patterns from Vertices\n",
    "\n",
    "pipeline.run_stage(DefaultStages.PATTERNS)\n",
    "\n",
    "patterns = pipeline.get_storage()[\"patterns\"]\n",
    "event = pipeline.get_event()\n",
    "\n",
    "print(f\"\\nStep 5 Complete - Patterns formed: {len(patterns)} patterns\")\n",
    "print(f\"Current stage: {pipeline.get_current_stage()}\")\n",
    "\n",
    "# Print patterns and the unique tracklets within each pattern along with vertex information\n",
    "for pattern in patterns:\n",
    "    print(f\"\\nPattern with {len(pattern.get_vertices())} vertices.\")\n",
    "\n",
    "    for vertex in pattern.get_vertices():\n",
    "        tracklet_ids = [t.tracklet_id for t in vertex.get_tracklets()]\n",
    "        print(f\"  Vertex {vertex.vertex_id} (tracklet_ids={tracklet_ids})\")\n",
    "\n",
    "    print(\"  Unique Tracklets:\")\n",
    "    for tracklet in pattern.get_unique_tracklets():\n",
    "        print(f\"    {tracklet}\")\n",
    "\n",
    "print(f\"\\nEvent extra info: {event.extra_info}\")\n"
   ]
  },
  {
   "cell_type": "code",
   "execution_count": 12,
   "id": "78fb4276-0b30-4eb2-a442-ff721be1a977",
   "metadata": {},
   "outputs": [
    {
     "name": "stdout",
     "output_type": "stream",
     "text": [
      "\n",
      "Step 6 Complete - Event validation: True\n",
      "Final event: Event(id=0, 1 patterns (sample IDs: ['Pattern(id=0, num_vertices=2)']), 1 tracklets (sample IDs: [0]), extra_info: 3 keys: ['tracklet_algorithm_info', 'vertex_algorithm_info', 'pattern_algorithm_info'], is_valid=True)\n",
      "Current stage: DefaultStages.VALIDATION\n"
     ]
    }
   ],
   "source": [
    "# ## Step 6: Validate Event Against Truth\n",
    "\n",
    "pipeline.run_stage(DefaultStages.VALIDATION)\n",
    "\n",
    "event = pipeline.get_event()\n",
    "print(f\"\\nStep 6 Complete - Event validation: {event.is_valid}\")\n",
    "print(f\"Final event: {event}\")\n",
    "print(f\"Current stage: {pipeline.get_current_stage()}\")"
   ]
  },
  {
   "cell_type": "markdown",
   "id": "11d450e8-85a4-4447-824e-f2078fde6ef3",
   "metadata": {},
   "source": [
    "# Reconstruct Multiple Events"
   ]
  },
  {
   "cell_type": "markdown",
   "id": "42829920-b0b1-43e7-b8bc-780a8013de4f",
   "metadata": {},
   "source": [
    "## Make cuts on the data set"
   ]
  },
  {
   "cell_type": "code",
   "execution_count": 13,
   "id": "5ab16f0a-f28e-4206-b113-5d5c14c8864e",
   "metadata": {},
   "outputs": [
    {
     "data": {
      "application/vnd.jupyter.widget-view+json": {
       "model_id": "206e390de10a47ceb154f3e6d9e42b0d",
       "version_major": 2,
       "version_minor": 0
      },
      "text/plain": [
       "Processing Events:   0%|          | 0/58659 [00:00<?, ?it/s]"
      ]
     },
     "metadata": {},
     "output_type": "display_data"
    }
   ],
   "source": [
    "# Number of events to process (set to None or a large number to process all events)\n",
    "MAX_EVENTS = None\n",
    "N_EVENTS = tree.GetEntries() if MAX_EVENTS is None else min(MAX_EVENTS, tree_pf.GetEntries())\n",
    "\n",
    "use_pitar = True\n",
    "use_in_fid_vol = True\n",
    "\n",
    "nentries = tree.GetEntries()\n",
    "all_events = []  # Store event IDs of all events that pass the initial cuts\n",
    "\n",
    "for iEntry in tqdm(range(min(nentries, N_EVENTS)), desc=\"Processing Events\"):\n",
    "\n",
    "    patternFailed = False\n",
    "    tree.GetEntry(iEntry)\n",
    "\n",
    "    # SELECTIONS\n",
    "    pitar = any(info.Has(r.kPitar) for info in tree.infoVec)\n",
    "\n",
    "    if (not pitar) and use_pitar:\n",
    "        continue\n",
    "\n",
    "    in_fid_vol = True\n",
    "    for tracklet in tree.trackletVec:\n",
    "        for hit in tracklet.GetAllHits():\n",
    "            vname = geoHelper.GetVolumeName(hit.GetVID()).Data()\n",
    "            if 'atar' in vname:\n",
    "                side = vname[11]\n",
    "                if (side == \"f\" and abs(geoHelper.GetX(hit.GetVID())) > 8) or \\\n",
    "                   (side == \"b\" and abs(geoHelper.GetY(hit.GetVID())) > 8):\n",
    "                    in_fid_vol = False\n",
    "\n",
    "    if (not in_fid_vol) and use_in_fid_vol:\n",
    "        continue\n",
    "\n",
    "    all_events.append(iEntry)"
   ]
  },
  {
   "cell_type": "markdown",
   "id": "57a6f30d-f679-4026-b9bf-ff10368a204b",
   "metadata": {},
   "source": [
    "## Run Reconstruction on Events"
   ]
  },
  {
   "cell_type": "code",
   "execution_count": null,
   "id": "525af214-ffa8-4120-9efb-f98ce0d57827",
   "metadata": {},
   "outputs": [
    {
     "data": {
      "application/vnd.jupyter.widget-view+json": {
       "model_id": "97e66bb91ff547b4b43956a0d5decd34",
       "version_major": 2,
       "version_minor": 0
      },
      "text/plain": [
       "Reconstructing events:   0%|          | 0/44698 [00:00<?, ?it/s]"
      ]
     },
     "metadata": {},
     "output_type": "display_data"
    }
   ],
   "source": [
    "# Create and register pipeline once outside the loop\n",
    "pipeline = Pipeline()\n",
    "\n",
    "pipeline.register_stage(EventInputStage())\n",
    "pipeline.register_stage(EventInitStage())\n",
    "pipeline.register_stage(TrackletStage(DefaultTrackletFormer()))\n",
    "pipeline.register_stage(VertexStage(KMeansVertexFormer(planes_to_run={\"front\"})))\n",
    "pipeline.register_stage(PatternStage(DefaultPatternFormer()))\n",
    "pipeline.register_stage(ValidationStage(TrackletGroupingValidator()))\n",
    "\n",
    "# Number of events to process (-1 means all)\n",
    "N_EVENTS = -1\n",
    "\n",
    "# Determine number of events and slice all_events accordingly\n",
    "if N_EVENTS == -1 or N_EVENTS > len(all_events):\n",
    "    events_to_process = all_events\n",
    "else:\n",
    "    events_to_process = all_events[:N_EVENTS]\n",
    "\n",
    "# Preallocate output array with correct length\n",
    "reconstructed_events = np.empty(len(events_to_process), dtype=object)\n",
    "\n",
    "# Run reconstruction loop\n",
    "with tqdm(total=len(events_to_process), desc=\"Reconstructing events\") as pbar:\n",
    "    for i, event_index in enumerate(events_to_process):\n",
    "        input_context = InputContext(tree, geoHelper, event_index)\n",
    "        pipeline.run(input_context)\n",
    "        reconstructed_events[i] = pipeline.get_event()  # deepcopy of event\n",
    "        pbar.update(1)\n"
   ]
  },
  {
   "cell_type": "markdown",
   "id": "f25d15b6-95bf-47a7-9500-aff8f949d380",
   "metadata": {},
   "source": [
    "# Check/View Algorithm Performance"
   ]
  },
  {
   "cell_type": "markdown",
   "id": "8448d143-624b-4977-a087-97dbdf66708c",
   "metadata": {},
   "source": [
    "## Performance vs. Particle composition"
   ]
  },
  {
   "cell_type": "markdown",
   "id": "5498c972-d862-49d0-a92b-bf784a7ef429",
   "metadata": {},
   "source": [
    "### Performance categorized by reconstructed particle componsition\n",
    "Sometimes tracklets exist in truth, but do not create a hit in the atar. As a result, we cannot always construct the true particle composition."
   ]
  },
  {
   "cell_type": "code",
   "execution_count": null,
   "id": "016c4f51-a19f-4771-ac7f-154660e988db",
   "metadata": {},
   "outputs": [],
   "source": [
    "reload(plotting_utils)\n",
    "title = f\"Pattern Reconstruction by Reconstructed Particle Composition ($N_{{\\\\text{{events}}}} = {len(reconstructed_events)}$)\"\n",
    "plotting_utils.plot_event_classification_from_patterns(reconstructed_events, use_truth_particles = False, title =  title)"
   ]
  },
  {
   "cell_type": "markdown",
   "id": "13668643-a5f5-4f76-95c8-ee759c0af94c",
   "metadata": {},
   "source": [
    "### Performance categorized by true particle componsition\n",
    "We can tag each event with the true particle composition information and plot against that instead to also see performance based on true particle composition"
   ]
  },
  {
   "cell_type": "code",
   "execution_count": null,
   "id": "88654fe2-f951-4630-9c24-e829143ae6c1",
   "metadata": {},
   "outputs": [],
   "source": [
    "reload(plotting_utils)\n",
    "title = f\"Pattern Reconstruction by True Particle Composition ($N_{{\\\\text{{events}}}} = {len(reconstructed_events)}$)\"\n",
    "plotting_utils.plot_event_classification_from_patterns(reconstructed_events, use_truth_particles = True, title =  title)"
   ]
  },
  {
   "cell_type": "markdown",
   "id": "ccb70678-a97c-4f01-a4ba-42d56c22c6bc",
   "metadata": {},
   "source": [
    "## Performance vs. True Number of Patterns"
   ]
  },
  {
   "cell_type": "code",
   "execution_count": null,
   "id": "a55de0d1-3087-40cc-ba15-6635004da6a7",
   "metadata": {},
   "outputs": [],
   "source": [
    "reload(plotting_utils)\n",
    "title = f\"Pattern Reconstruction by True Particle Composition ($N_{{\\\\text{{events}}}} = {len(reconstructed_events)}$)\"\n",
    "plotting_utils.plot_event_patterns_summary(reconstructed_events, title =  None)"
   ]
  },
  {
   "cell_type": "code",
   "execution_count": null,
   "id": "2edb5dc2-3385-4c9c-9c2d-2815081d1a60",
   "metadata": {},
   "outputs": [],
   "source": []
  }
 ],
 "metadata": {
  "kernelspec": {
   "display_name": "Python 3 (ipykernel)",
   "language": "python",
   "name": "python3"
  },
  "language_info": {
   "codemirror_mode": {
    "name": "ipython",
    "version": 3
   },
   "file_extension": ".py",
   "mimetype": "text/x-python",
   "name": "python",
   "nbconvert_exporter": "python",
   "pygments_lexer": "ipython3",
   "version": "3.10.16"
  }
 },
 "nbformat": 4,
 "nbformat_minor": 5
}
